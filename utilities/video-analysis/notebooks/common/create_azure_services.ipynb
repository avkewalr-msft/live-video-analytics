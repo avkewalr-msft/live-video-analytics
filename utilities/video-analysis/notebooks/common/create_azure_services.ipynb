{
 "cells": [
  {
   "cell_type": "markdown",
   "metadata": {
    "collapsed": true
   },
   "source": [
    "# Create Required Azure Services\n",
    "Before starting this section, make sure you have set up the global variables from the previous section. Once your global variables have been set up, you no longer have to set them up again, as they are stored in a .env environment file. \n",
    "\n",
    "If you delete your .env file or your Azure login session expires, you may need to re-run the setup process as shown in the [previous section](setup_environment.ipynb). Keep this in mind when proceeding onto the other sections in this sample."
   ]
  },
  {
   "cell_type": "markdown",
   "metadata": {},
   "source": [
    "## Get Global Variables\n",
    "First, we will read the previously stored global variables."
   ]
  },
  {
   "cell_type": "code",
   "execution_count": null,
   "metadata": {},
   "outputs": [],
   "source": [
    "from env_variables import *"
   ]
  },
  {
   "cell_type": "markdown",
   "metadata": {},
   "source": [
    "## Create Resource Group\n",
    "A resource group is a container that holds related resources for an Azure solution. The resource group can include all the resources for the solution, or only those resources that you want to manage as a group. \n",
    "We will now create a new Azure resource group using the resource group name and location set in the [previous section](setup_environment.ipynb). Check that this name is present in the .env file, as this name will be auto-filled into the placeholders starting with the character \"$\".\n",
    "\n",
    "First, we will tag your resource group with your username and \"lva\" so that it will be easy to find."
   ]
  },
  {
   "cell_type": "code",
   "execution_count": null,
   "metadata": {},
   "outputs": [],
   "source": [
    "import os\n",
    "from sys import platform\n",
    "\n",
    "if platform == \"win32\": #Windows\n",
    "    userName = (os.environ['USERNAME']).lower()\n",
    "else: #Linux or MacOS\n",
    "    userName = (os.environ['USER']).lower()\n",
    "\n",
    "set_key(envPath, \"USERNAME\", userName)\n",
    "\n",
    "resourceTags = \"Owner={} Project=lva\".format(userName)"
   ]
  },
  {
   "cell_type": "code",
   "execution_count": null,
   "metadata": {},
   "outputs": [],
   "source": [
    "!az group create --name $resourceGroupName --location  $resourceLocation --tag $resourceTags"
   ]
  },
  {
   "cell_type": "markdown",
   "metadata": {},
   "source": [
    "## Create Azure Container Registry Service\n",
    "We will use Azure Container Registry (ACR) to store our module images."
   ]
  },
  {
   "cell_type": "code",
   "execution_count": null,
   "metadata": {},
   "outputs": [],
   "source": [
    "!az acr create --name $acrServiceName --resource-group $resourceGroupName --location $resourceLocation --sku Basic --admin-enabled true --tag $resourceTags"
   ]
  },
  {
   "cell_type": "markdown",
   "metadata": {},
   "source": [
    "> <span style=\"color:red; font-weight: bold\"> [!WARNING] </span>  \n",
    "> Even if the cell above finishes executing, it may take several seconds to minutes to have the changes reflected on Azure Datacenter. Wait for 2-3 minutes before proceeding to the next cell to avoid running into errors."
   ]
  },
  {
   "cell_type": "markdown",
   "metadata": {},
   "source": [
    "### Get Access Credentials from ACR\n",
    "After the ACR resource has been generated, we can grab the access credentials from ACR by running the following code snippets."
   ]
  },
  {
   "cell_type": "code",
   "execution_count": null,
   "metadata": {},
   "outputs": [],
   "source": [
    "acrUserNameTemp = !az acr credential show -n $acrServiceName --query username\n",
    "acrPasswordTemp = !az acr credential show -n $acrServiceName --query passwords[0].value\n",
    "\n",
    "acrUserName = acrUserNameTemp[0]\n",
    "acrPassword = acrPasswordTemp[0]"
   ]
  },
  {
   "cell_type": "markdown",
   "metadata": {},
   "source": [
    "Run the cell below to save these ACR credentials for future use by storing them in the .env file."
   ]
  },
  {
   "cell_type": "code",
   "execution_count": null,
   "metadata": {},
   "outputs": [],
   "source": [
    "set_key(envPath, \"CONTAINER_REGISTRY_USERNAME_myacr\", acrUserName)\n",
    "set_key(envPath, \"CONTAINER_REGISTRY_PASSWORD_myacr\", acrPassword)\n",
    "tempVar = set_key(envPath, \"ACR_SERVICE_FULL_NAME\", acrServiceName+\".azurecr.io\")"
   ]
  },
  {
   "cell_type": "markdown",
   "metadata": {},
   "source": [
    "## Create Azure IoT Hub\n",
    "Next, we will create an Azure IoT Hub.\n",
    "> <span style=\"color:red; font-weight: bold\"> [!WARNING] </span>  \n",
    "> Running the code snippet below may yield the following error: \"IotHub name '<NAME\\>' is not available\". This error appears if the service already exists. If you see the error, skip the step, as you have likely created the resource already.\n"
   ]
  },
  {
   "cell_type": "code",
   "execution_count": null,
   "metadata": {},
   "outputs": [],
   "source": [
    "!az iot hub create --name $iotHubServiceName --resource-group $resourceGroupName --location $resourceLocation --sku S1"
   ]
  },
  {
   "cell_type": "markdown",
   "metadata": {},
   "source": [
    "Run the cells below to save these Azure IoT Hub connection string for future use by storing it in the .env file. This string is used to identify the hub."
   ]
  },
  {
   "cell_type": "code",
   "execution_count": null,
   "metadata": {},
   "outputs": [],
   "source": [
    "iotHubConnString = !az iot hub show-connection-string --hub-name $iotHubServiceName --output tsv"
   ]
  },
  {
   "cell_type": "code",
   "execution_count": null,
   "metadata": {},
   "outputs": [],
   "source": [
    "tempVar = set_key(envPath, \"IOT_HUB_CONN_STRING\", iotHubConnString[0].rstrip())"
   ]
  },
  {
   "cell_type": "markdown",
   "metadata": {},
   "source": [
    "## Create IoT Edge Device Identity\n",
    "To run LVA on the Edge, we will need to create an IoT Edge device to run our modules with AI capability. In the code below, we will instruct Azure IoT Hub to create a resource framework for this cloud-based IoT Edge device."
   ]
  },
  {
   "cell_type": "code",
   "execution_count": null,
   "metadata": {},
   "outputs": [],
   "source": [
    "# Install iot hub CLI extensions\n",
    "!az extension add --name azure-iot"
   ]
  },
  {
   "cell_type": "markdown",
   "metadata": {},
   "source": [
    "If we want to connect/match physical devices to this cloud-based Edge device later, the connection will be set using the IoT Edge device's connection string. Everything in this cloud-based Edge device will be cloned into the physical device, including all the IoT Edge modules. Thus, we will also be printing out and saving the cloud-based IoT Edge device's connection string for future use."
   ]
  },
  {
   "cell_type": "code",
   "execution_count": null,
   "metadata": {},
   "outputs": [],
   "source": [
    "# Create edge device if one does not already exist\n",
    "tempVar = !az iot hub device-identity create --hub-name $iotHubServiceName --device-id $iotDeviceId --edge-enabled\n",
    "iotEdgeDeviceConnString = !az iot hub device-identity connection-string show --hub-name $iotHubServiceName --device-id $iotDeviceId --output tsv"
   ]
  },
  {
   "cell_type": "markdown",
   "metadata": {},
   "source": [
    "Run the cell below to save the IoT Edge Device Connection String in the environment file for future use"
   ]
  },
  {
   "cell_type": "code",
   "execution_count": null,
   "metadata": {},
   "outputs": [],
   "source": [
    "tempVar = set_key(envPath, \"IOT_EDGE_DEVICE_CONN_STRING\", iotEdgeDeviceConnString[0].rstrip())"
   ]
  },
  {
   "cell_type": "markdown",
   "metadata": {},
   "source": [
    "## Create Azure Storage Services\n",
    "To store assets onto Azure Media Services, we must also create a storage resource."
   ]
  },
  {
   "cell_type": "code",
   "execution_count": null,
   "metadata": {},
   "outputs": [],
   "source": [
    "!az storage account create --name $storageServiceName --resource-group $resourceGroupName --location $resourceLocation --sku Standard_LRS --tag $resourceTags"
   ]
  },
  {
   "cell_type": "markdown",
   "metadata": {},
   "source": [
    "## Create Azure Media Services\n",
    "\n",
    "Azure Media Services (AMS) is a cloud-based media workflow platform to index, package, protect, and stream video. For this sample, we will be using AMS to archive video clips (Edge streams) generated when our AI module detects motion."
   ]
  },
  {
   "cell_type": "code",
   "execution_count": null,
   "metadata": {},
   "outputs": [],
   "source": [
    "!az ams account create --name $mediaServiceName --resource-group $resourceGroupName --storage-account $storageServiceName --location $resourceLocation --tag $resourceTags"
   ]
  },
  {
   "cell_type": "markdown",
   "metadata": {},
   "source": [
    "## Create Azure Service Principal\n",
    "A service principal is a security identity used by user-created apps, services, and tools to access Azure resources. Like with the other resources created thus far, we will be creating a service principal and storing the credentials (AAD_TENANT_ID, AAD_SERVICE_PRINCIPAL_ID, and AAD_SERVICE_PRINCIPAL_SECRET) in the .env file. \n"
   ]
  },
  {
   "cell_type": "code",
   "execution_count": null,
   "metadata": {},
   "outputs": [],
   "source": [
    "tempVar = !az ams account sp create --account-name $mediaServiceName --resource-group $resourceGroupName --name lvasp$resourceGroupName --output json\n",
    "output = !az ams account sp reset-credentials --account-name $mediaServiceName --resource-group $resourceGroupName --name lvasp$resourceGroupName --output json\n",
    "output = ''.join(output)"
   ]
  },
  {
   "cell_type": "code",
   "execution_count": null,
   "metadata": {},
   "outputs": [],
   "source": [
    "import json\n",
    "\n",
    "amssp = json.loads(output)\n",
    "\n",
    "set_key(envPath, \"AAD_TENANT_ID\", amssp['AadTenantId'])\n",
    "set_key(envPath, \"AAD_SERVICE_PRINCIPAL_ID\", amssp['AadClientId'])\n",
    "tempVar = set_key(envPath, \"AAD_SERVICE_PRINCIPAL_SECRET\", amssp['AadSecret'])"
   ]
  },
  {
   "cell_type": "markdown",
   "metadata": {},
   "source": [
    "## Next Steps\n",
    "If all the code cells above have successfully finished running, return to the Readme page to continue.   "
   ]
  }
 ],
 "metadata": {
  "kernelspec": {
   "display_name": "Python 3",
   "language": "python",
   "name": "python3"
  },
  "language_info": {
   "codemirror_mode": {
    "name": "ipython",
    "version": 3
   },
   "file_extension": ".py",
   "mimetype": "text/x-python",
   "name": "python",
   "nbconvert_exporter": "python",
   "pygments_lexer": "ipython3",
   "version": "3.6.9-final"
  }
 },
 "nbformat": 4,
 "nbformat_minor": 2
}
